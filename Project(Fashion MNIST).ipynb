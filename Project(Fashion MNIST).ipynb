{
 "cells": [
  {
   "cell_type": "code",
   "execution_count": 35,
   "metadata": {},
   "outputs": [],
   "source": [
    "import pandas as pd\n",
    "import numpy as np\n",
    "import matplotlib.pyplot as plt\n",
    "import seaborn as sns\n",
    "from sklearn import tree\n",
    "from sklearn.preprocessing import*\n",
    "import os\n",
    "from sklearn import preprocessing\n",
    "from sklearn.model_selection import train_test_split\n",
    "from sklearn import metrics\n",
    "from sklearn.metrics import classification_report\n",
    "from sklearn.metrics import confusion_matrix\n",
    "from sklearn.ensemble import BaggingClassifier\n",
    "from sklearn.tree import DecisionTreeClassifier\n",
    "from sklearn.ensemble import RandomForestClassifier\n",
    "from sklearn.ensemble import GradientBoostingClassifier\n",
    "from sklearn.linear_model import LogisticRegression\n",
    "from sklearn import svm\n",
    "from sklearn.ensemble import RandomForestClassifier, VotingClassifier\n"
   ]
  },
  {
   "cell_type": "code",
   "execution_count": 36,
   "metadata": {},
   "outputs": [
    {
     "data": {
      "text/html": [
       "<div>\n",
       "<style scoped>\n",
       "    .dataframe tbody tr th:only-of-type {\n",
       "        vertical-align: middle;\n",
       "    }\n",
       "\n",
       "    .dataframe tbody tr th {\n",
       "        vertical-align: top;\n",
       "    }\n",
       "\n",
       "    .dataframe thead th {\n",
       "        text-align: right;\n",
       "    }\n",
       "</style>\n",
       "<table border=\"1\" class=\"dataframe\">\n",
       "  <thead>\n",
       "    <tr style=\"text-align: right;\">\n",
       "      <th></th>\n",
       "      <th>label</th>\n",
       "      <th>pixel1</th>\n",
       "      <th>pixel2</th>\n",
       "      <th>pixel3</th>\n",
       "      <th>pixel4</th>\n",
       "      <th>pixel5</th>\n",
       "      <th>pixel6</th>\n",
       "      <th>pixel7</th>\n",
       "      <th>pixel8</th>\n",
       "      <th>pixel9</th>\n",
       "      <th>...</th>\n",
       "      <th>pixel775</th>\n",
       "      <th>pixel776</th>\n",
       "      <th>pixel777</th>\n",
       "      <th>pixel778</th>\n",
       "      <th>pixel779</th>\n",
       "      <th>pixel780</th>\n",
       "      <th>pixel781</th>\n",
       "      <th>pixel782</th>\n",
       "      <th>pixel783</th>\n",
       "      <th>pixel784</th>\n",
       "    </tr>\n",
       "  </thead>\n",
       "  <tbody>\n",
       "    <tr>\n",
       "      <th>0</th>\n",
       "      <td>0</td>\n",
       "      <td>0</td>\n",
       "      <td>0</td>\n",
       "      <td>0</td>\n",
       "      <td>0</td>\n",
       "      <td>0</td>\n",
       "      <td>0</td>\n",
       "      <td>0</td>\n",
       "      <td>9</td>\n",
       "      <td>8</td>\n",
       "      <td>...</td>\n",
       "      <td>103</td>\n",
       "      <td>87</td>\n",
       "      <td>56</td>\n",
       "      <td>0</td>\n",
       "      <td>0</td>\n",
       "      <td>0</td>\n",
       "      <td>0</td>\n",
       "      <td>0</td>\n",
       "      <td>0</td>\n",
       "      <td>0</td>\n",
       "    </tr>\n",
       "    <tr>\n",
       "      <th>1</th>\n",
       "      <td>1</td>\n",
       "      <td>0</td>\n",
       "      <td>0</td>\n",
       "      <td>0</td>\n",
       "      <td>0</td>\n",
       "      <td>0</td>\n",
       "      <td>0</td>\n",
       "      <td>0</td>\n",
       "      <td>0</td>\n",
       "      <td>0</td>\n",
       "      <td>...</td>\n",
       "      <td>34</td>\n",
       "      <td>0</td>\n",
       "      <td>0</td>\n",
       "      <td>0</td>\n",
       "      <td>0</td>\n",
       "      <td>0</td>\n",
       "      <td>0</td>\n",
       "      <td>0</td>\n",
       "      <td>0</td>\n",
       "      <td>0</td>\n",
       "    </tr>\n",
       "    <tr>\n",
       "      <th>2</th>\n",
       "      <td>2</td>\n",
       "      <td>0</td>\n",
       "      <td>0</td>\n",
       "      <td>0</td>\n",
       "      <td>0</td>\n",
       "      <td>0</td>\n",
       "      <td>0</td>\n",
       "      <td>14</td>\n",
       "      <td>53</td>\n",
       "      <td>99</td>\n",
       "      <td>...</td>\n",
       "      <td>0</td>\n",
       "      <td>0</td>\n",
       "      <td>0</td>\n",
       "      <td>0</td>\n",
       "      <td>63</td>\n",
       "      <td>53</td>\n",
       "      <td>31</td>\n",
       "      <td>0</td>\n",
       "      <td>0</td>\n",
       "      <td>0</td>\n",
       "    </tr>\n",
       "    <tr>\n",
       "      <th>3</th>\n",
       "      <td>2</td>\n",
       "      <td>0</td>\n",
       "      <td>0</td>\n",
       "      <td>0</td>\n",
       "      <td>0</td>\n",
       "      <td>0</td>\n",
       "      <td>0</td>\n",
       "      <td>0</td>\n",
       "      <td>0</td>\n",
       "      <td>0</td>\n",
       "      <td>...</td>\n",
       "      <td>137</td>\n",
       "      <td>126</td>\n",
       "      <td>140</td>\n",
       "      <td>0</td>\n",
       "      <td>133</td>\n",
       "      <td>224</td>\n",
       "      <td>222</td>\n",
       "      <td>56</td>\n",
       "      <td>0</td>\n",
       "      <td>0</td>\n",
       "    </tr>\n",
       "    <tr>\n",
       "      <th>4</th>\n",
       "      <td>3</td>\n",
       "      <td>0</td>\n",
       "      <td>0</td>\n",
       "      <td>0</td>\n",
       "      <td>0</td>\n",
       "      <td>0</td>\n",
       "      <td>0</td>\n",
       "      <td>0</td>\n",
       "      <td>0</td>\n",
       "      <td>0</td>\n",
       "      <td>...</td>\n",
       "      <td>0</td>\n",
       "      <td>0</td>\n",
       "      <td>0</td>\n",
       "      <td>0</td>\n",
       "      <td>0</td>\n",
       "      <td>0</td>\n",
       "      <td>0</td>\n",
       "      <td>0</td>\n",
       "      <td>0</td>\n",
       "      <td>0</td>\n",
       "    </tr>\n",
       "  </tbody>\n",
       "</table>\n",
       "<p>5 rows × 785 columns</p>\n",
       "</div>"
      ],
      "text/plain": [
       "   label  pixel1  pixel2  pixel3  pixel4  pixel5  pixel6  pixel7  pixel8  \\\n",
       "0      0       0       0       0       0       0       0       0       9   \n",
       "1      1       0       0       0       0       0       0       0       0   \n",
       "2      2       0       0       0       0       0       0      14      53   \n",
       "3      2       0       0       0       0       0       0       0       0   \n",
       "4      3       0       0       0       0       0       0       0       0   \n",
       "\n",
       "   pixel9    ...     pixel775  pixel776  pixel777  pixel778  pixel779  \\\n",
       "0       8    ...          103        87        56         0         0   \n",
       "1       0    ...           34         0         0         0         0   \n",
       "2      99    ...            0         0         0         0        63   \n",
       "3       0    ...          137       126       140         0       133   \n",
       "4       0    ...            0         0         0         0         0   \n",
       "\n",
       "   pixel780  pixel781  pixel782  pixel783  pixel784  \n",
       "0         0         0         0         0         0  \n",
       "1         0         0         0         0         0  \n",
       "2        53        31         0         0         0  \n",
       "3       224       222        56         0         0  \n",
       "4         0         0         0         0         0  \n",
       "\n",
       "[5 rows x 785 columns]"
      ]
     },
     "execution_count": 36,
     "metadata": {},
     "output_type": "execute_result"
    }
   ],
   "source": [
    "df = pd.read_csv(\"C:/Users/DIPANSHI/Desktop/Datasets/fashion-mnist_test.csv\")\n",
    "df.head()"
   ]
  },
  {
   "cell_type": "code",
   "execution_count": 37,
   "metadata": {},
   "outputs": [],
   "source": [
    "x=df.drop([\"label\"],axis=1)\n",
    "y=df[\"label\"]"
   ]
  },
  {
   "cell_type": "code",
   "execution_count": 38,
   "metadata": {},
   "outputs": [
    {
     "data": {
      "text/plain": [
       "<bound method DataFrame.describe of       pixel1  pixel2  pixel3  pixel4  pixel5  pixel6  pixel7  pixel8  pixel9  \\\n",
       "0          0       0       0       0       0       0       0       9       8   \n",
       "1          0       0       0       0       0       0       0       0       0   \n",
       "2          0       0       0       0       0       0      14      53      99   \n",
       "3          0       0       0       0       0       0       0       0       0   \n",
       "4          0       0       0       0       0       0       0       0       0   \n",
       "5          0       0       0       0       0      44     105      44      10   \n",
       "6          0       0       0       0       0       0       0       0       0   \n",
       "7          0       0       0       0       0       0       0       1       0   \n",
       "8          0       0       0       0       0       0       0       0       0   \n",
       "9          0       0       0       0       0       0       0       0       0   \n",
       "10         0       0       0       0       0       0       0       1       0   \n",
       "11         0       0       0       0       0       0       1       1       0   \n",
       "12         0       0       0       0       0       0       0       0       0   \n",
       "13         0       0       0       0       0       0       1       1       0   \n",
       "14         0       0       0       0       0       0       0       0       0   \n",
       "15         0       0       0       0       0       0       0       0       0   \n",
       "16         0       0       0       0       0       0       1       5       0   \n",
       "17         0       0       0       0       0       0       0       0      15   \n",
       "18         0       0       0       0       0       0       0       2       2   \n",
       "19         0       0       0       0       0       0       0       0       0   \n",
       "20         0       0       0       0       0       0       0       0       0   \n",
       "21         0       0       0       0       0       0       0       0       0   \n",
       "22         0       0       0       0       0       0       1       0       0   \n",
       "23         0       0       0       0       0       0       0       0       0   \n",
       "24         0       0       0       0       0       0       0       0       0   \n",
       "25         0       0       0       0       0       0       0       0       0   \n",
       "26         0       0       0       0       0       0       0       0       0   \n",
       "27         0       0       0       0       0       0       0       0       0   \n",
       "28         0       0       0       0       0       0       0       0       0   \n",
       "29         0       0       0       0       0       0       0       0       0   \n",
       "...      ...     ...     ...     ...     ...     ...     ...     ...     ...   \n",
       "9970       0       0       0       0       0       0       0       0       0   \n",
       "9971       0       0       0       0       0       0       0       0       0   \n",
       "9972       0       0       0       0       0       0       0       0       0   \n",
       "9973       0       0       0       0       0       0       0       0       0   \n",
       "9974       0       0       0       0       0       0       0       0       0   \n",
       "9975       0       0       3       0       1       2       0       0       0   \n",
       "9976       0       0       0       0       0       0       0       0       0   \n",
       "9977       0       0       0       0       0       0       0       0       0   \n",
       "9978       0       0       0       0       0       0       0       0       0   \n",
       "9979       0       0       0       0       0       0       1       0       0   \n",
       "9980       0       0       0       0       0       0       0       0       0   \n",
       "9981       0       0       0       0       0       0       0       0       0   \n",
       "9982       0       0       0       0       0       0       0       0       0   \n",
       "9983       0       0       0       0       0       0       0       0       0   \n",
       "9984       0       0       0       0       0       0       0       0       0   \n",
       "9985       0       0       0       0       0       0       0       0       0   \n",
       "9986       0       0       0       0       2       0       2       0       0   \n",
       "9987       0       0       0       0       0       0       0       0       0   \n",
       "9988       0       0       0       0       0       0       0       0       0   \n",
       "9989       0       0       0       0       0       0       0       0       0   \n",
       "9990       0       0       0       0       0       0       0       0       0   \n",
       "9991       0       0       0       0       0       0       0       0       0   \n",
       "9992       0       0       0       0       0       0       0       0       0   \n",
       "9993       0       0       0       0       0       0       0       0       0   \n",
       "9994       0       0       0       0       0       0       0       1       0   \n",
       "9995       0       0       0       0       0       0       0       0       0   \n",
       "9996       0       0       0       0       0       0       0       0       0   \n",
       "9997       0       0       0       0       0       0       0       0       0   \n",
       "9998       0       1       3       0       0       0       0       0       0   \n",
       "9999       0       0       0       0       0       0       0     140     119   \n",
       "\n",
       "      pixel10    ...     pixel775  pixel776  pixel777  pixel778  pixel779  \\\n",
       "0           0    ...          103        87        56         0         0   \n",
       "1           0    ...           34         0         0         0         0   \n",
       "2          17    ...            0         0         0         0        63   \n",
       "3         161    ...          137       126       140         0       133   \n",
       "4           0    ...            0         0         0         0         0   \n",
       "5           0    ...          105        64        30         0         0   \n",
       "6           0    ...            0         0         0         0         0   \n",
       "7           0    ...          174       136       155        31         0   \n",
       "8           0    ...            0         0         0         0         0   \n",
       "9           0    ...           57        70        28         0         2   \n",
       "10          0    ...           12         0         0         0         0   \n",
       "11          0    ...            2         0        21       138       151   \n",
       "12          0    ...          118        73         0       164       225   \n",
       "13          0    ...            0         0         0         0        17   \n",
       "14          0    ...            0         0         0         0         0   \n",
       "15          0    ...            0         0         0         0         0   \n",
       "16          0    ...           90        60         0       129       146   \n",
       "17        132    ...            3         0         3         0         0   \n",
       "18          2    ...            0         0         0         5         3   \n",
       "19          0    ...            0         0         0         0         0   \n",
       "20          0    ...          187       210        52         0         2   \n",
       "21          0    ...            0         1         0         0         0   \n",
       "22          0    ...            0         0         0       118       158   \n",
       "23          4    ...          227        96         0         0         0   \n",
       "24          0    ...            0         0         0         0         0   \n",
       "25          0    ...            0         0         0         0         0   \n",
       "26          3    ...           39        31        19        19         0   \n",
       "27          0    ...           50        17         0         0         0   \n",
       "28          0    ...            0         0       215       219       172   \n",
       "29         18    ...          197       177         0         0         0   \n",
       "...       ...    ...          ...       ...       ...       ...       ...   \n",
       "9970        0    ...            0         0         0         0         0   \n",
       "9971        0    ...            0         0         0         0         0   \n",
       "9972       65    ...           63        32         0         0         0   \n",
       "9973        0    ...           82         1         0         0         0   \n",
       "9974        0    ...            0         0         0         0         0   \n",
       "9975        0    ...          127       117       110         0         0   \n",
       "9976        0    ...           95        98        98        96        99   \n",
       "9977        0    ...            0         0         0         0         0   \n",
       "9978        0    ...            0         0         0         0         0   \n",
       "9979        0    ...            0         0         0         0         0   \n",
       "9980        0    ...            0         0         0         0         0   \n",
       "9981        0    ...            0         0         0         0        70   \n",
       "9982        0    ...            0         0         0         0         0   \n",
       "9983        0    ...            0         0         0         0         0   \n",
       "9984        0    ...            0         0         0         0         0   \n",
       "9985        0    ...           94        74         0         0         0   \n",
       "9986        0    ...            7         0         0         1         0   \n",
       "9987        0    ...           63        44         0         0        38   \n",
       "9988        0    ...            0         0         0         0         0   \n",
       "9989        0    ...            0         0         0         0         0   \n",
       "9990        0    ...            0         0         0         0         0   \n",
       "9991        0    ...            0         0         0         0         0   \n",
       "9992        0    ...          120         0         0         1         0   \n",
       "9993        0    ...            0         0         0         0         0   \n",
       "9994        2    ...           85        67       114        51         0   \n",
       "9995       37    ...           32        23        14        20         0   \n",
       "9996        0    ...            0         0         0         2        52   \n",
       "9997        0    ...          175       172       172       182       199   \n",
       "9998        0    ...            0         0         0         0         0   \n",
       "9999      103    ...          111        95        75        44         1   \n",
       "\n",
       "      pixel780  pixel781  pixel782  pixel783  pixel784  \n",
       "0            0         0         0         0         0  \n",
       "1            0         0         0         0         0  \n",
       "2           53        31         0         0         0  \n",
       "3          224       222        56         0         0  \n",
       "4            0         0         0         0         0  \n",
       "5            0         0         0         0         0  \n",
       "6            0         0         0         0         0  \n",
       "7            1         0         0         0         0  \n",
       "8            0         0         0         0         0  \n",
       "9            0         0         0         0         0  \n",
       "10           0         0         0         0         0  \n",
       "11          71         0         0         0         0  \n",
       "12         123         0         0         0         0  \n",
       "13           0         0         0         0         0  \n",
       "14           0         0         0         0         0  \n",
       "15           0         0         0         0         0  \n",
       "16          78         0         0         0         0  \n",
       "17           0         0         0         0         0  \n",
       "18           1         0         0         0         0  \n",
       "19          50       107        18         0         0  \n",
       "20           0         0         0         0         0  \n",
       "21           0         0         0         0         0  \n",
       "22          92         0         0         0         0  \n",
       "23           0         0         0         0         0  \n",
       "24           0         0         0         0         0  \n",
       "25           0         0         0         0         0  \n",
       "26           0         0         0         0         0  \n",
       "27           1         4         1         0         0  \n",
       "28           0         0         0         0         0  \n",
       "29           0         0         0         0         0  \n",
       "...        ...       ...       ...       ...       ...  \n",
       "9970         0         0         0         0         0  \n",
       "9971         0         0         0         0         0  \n",
       "9972         1         0         0         0         0  \n",
       "9973         0         0         0         0         0  \n",
       "9974         0         0         0         0         0  \n",
       "9975         1         0         0         0         0  \n",
       "9976        87        50         0         0         0  \n",
       "9977         0         0         0         0         0  \n",
       "9978         0         0         0         0         0  \n",
       "9979         0         1        34         0         0  \n",
       "9980         0         0         0         0         0  \n",
       "9981        89        30         0         0         0  \n",
       "9982         0         0         0         0         0  \n",
       "9983         0         0         0         0         0  \n",
       "9984         0         0         0         0         0  \n",
       "9985         0         0         0         0         0  \n",
       "9986         1         1         0         1         0  \n",
       "9987        38        44         0         0         0  \n",
       "9988         0         0         0         0         0  \n",
       "9989         0         0         0         0         0  \n",
       "9990         0         0         0         0         0  \n",
       "9991         0         0         0         0         0  \n",
       "9992         0         0         0         0         0  \n",
       "9993         0         0         0         0         0  \n",
       "9994         1         0         0         0         0  \n",
       "9995         0         1         0         0         0  \n",
       "9996        23        28         0         0         0  \n",
       "9997       222        42         0         1         0  \n",
       "9998         1         0         0         0         0  \n",
       "9999         0         0         0         0         0  \n",
       "\n",
       "[10000 rows x 784 columns]>"
      ]
     },
     "execution_count": 38,
     "metadata": {},
     "output_type": "execute_result"
    }
   ],
   "source": [
    "x.shape,y.shape\n",
    "x.describe"
   ]
  },
  {
   "cell_type": "markdown",
   "metadata": {},
   "source": [
    "## Normalisation"
   ]
  },
  {
   "cell_type": "code",
   "execution_count": 39,
   "metadata": {},
   "outputs": [
    {
     "data": {
      "text/plain": [
       "(10000L, 784L)"
      ]
     },
     "execution_count": 39,
     "metadata": {},
     "output_type": "execute_result"
    }
   ],
   "source": [
    "z = preprocessing.normalize(x)\n",
    "z\n",
    "z1 = preprocessing.scale(z)\n",
    "z1\n",
    "z1.shape"
   ]
  },
  {
   "cell_type": "markdown",
   "metadata": {},
   "source": [
    "# Viewing the image of the items using matplotlib"
   ]
  },
  {
   "cell_type": "code",
   "execution_count": 40,
   "metadata": {},
   "outputs": [
    {
     "data": {
      "text/plain": [
       "<matplotlib.image.AxesImage at 0x14017ba8>"
      ]
     },
     "execution_count": 40,
     "metadata": {},
     "output_type": "execute_result"
    },
    {
     "data": {
      "image/png": "[encoded data removed]",
      "text/plain": [
       "<matplotlib.figure.Figure at 0x1227b2e8>"
      ]
     },
     "metadata": {},
     "output_type": "display_data"
    }
   ],
   "source": [
    "plt.imshow(z1[0].reshape(28,28))"
   ]
  },
  {
   "cell_type": "markdown",
   "metadata": {},
   "source": [
    "# Implementing a classifier model"
   ]
  },
  {
   "cell_type": "markdown",
   "metadata": {},
   "source": [
    "##### Spliting the data"
   ]
  },
  {
   "cell_type": "code",
   "execution_count": 41,
   "metadata": {},
   "outputs": [],
   "source": [
    "z1_train,z1_test,y_train,y_test=train_test_split(z1,y,test_size=0.3)"
   ]
  },
  {
   "cell_type": "markdown",
   "metadata": {},
   "source": [
    "### Bagging Classifier"
   ]
  },
  {
   "cell_type": "code",
   "execution_count": 42,
   "metadata": {},
   "outputs": [],
   "source": [
    "model = DecisionTreeClassifier()\n",
    "num_trees = 100\n",
    "model1 = BaggingClassifier(base_estimator=model)"
   ]
  },
  {
   "cell_type": "code",
   "execution_count": 43,
   "metadata": {},
   "outputs": [
    {
     "data": {
      "text/plain": [
       "BaggingClassifier(base_estimator=DecisionTreeClassifier(class_weight=None, criterion='gini', max_depth=None,\n",
       "            max_features=None, max_leaf_nodes=None,\n",
       "            min_impurity_decrease=0.0, min_impurity_split=None,\n",
       "            min_samples_leaf=1, min_samples_split=2,\n",
       "            min_weight_fraction_leaf=0.0, presort=False, random_state=None,\n",
       "            splitter='best'),\n",
       "         bootstrap=True, bootstrap_features=False, max_features=1.0,\n",
       "         max_samples=1.0, n_estimators=10, n_jobs=1, oob_score=False,\n",
       "         random_state=None, verbose=0, warm_start=False)"
      ]
     },
     "execution_count": 43,
     "metadata": {},
     "output_type": "execute_result"
    }
   ],
   "source": [
    "model1.fit(z1_train,y_train)"
   ]
  },
  {
   "cell_type": "code",
   "execution_count": 44,
   "metadata": {},
   "outputs": [],
   "source": [
    "pred = model1.predict(z1_test)"
   ]
  },
  {
   "cell_type": "code",
   "execution_count": 45,
   "metadata": {},
   "outputs": [
    {
     "data": {
      "text/plain": [
       "0.8116666666666666"
      ]
     },
     "execution_count": 45,
     "metadata": {},
     "output_type": "execute_result"
    }
   ],
   "source": [
    "metrics.accuracy_score(y_test,pred)"
   ]
  },
  {
   "cell_type": "code",
   "execution_count": 46,
   "metadata": {},
   "outputs": [
    {
     "name": "stdout",
     "output_type": "stream",
     "text": [
      "             precision    recall  f1-score   support\n",
      "\n",
      "          0       0.71      0.78      0.74       307\n",
      "          1       0.95      0.93      0.94       312\n",
      "          2       0.69      0.75      0.72       304\n",
      "          3       0.84      0.82      0.83       306\n",
      "          4       0.71      0.77      0.74       291\n",
      "          5       0.88      0.88      0.88       293\n",
      "          6       0.62      0.46      0.53       284\n",
      "          7       0.87      0.86      0.87       304\n",
      "          8       0.92      0.97      0.94       301\n",
      "          9       0.88      0.88      0.88       298\n",
      "\n",
      "avg / total       0.81      0.81      0.81      3000\n",
      "\n"
     ]
    }
   ],
   "source": [
    "print(classification_report(y_test,pred))"
   ]
  },
  {
   "cell_type": "code",
   "execution_count": 47,
   "metadata": {},
   "outputs": [
    {
     "data": {
      "text/plain": [
       "array([[239,   4,  13,  12,   3,   0,  31,   0,   5,   0],\n",
       "       [  3, 290,   1,  13,   2,   0,   3,   0,   0,   0],\n",
       "       [  8,   1, 228,   0,  44,   0,  18,   0,   5,   0],\n",
       "       [ 18,   8,   9, 250,  14,   0,   6,   0,   1,   0],\n",
       "       [  1,   0,  39,   8, 225,   0,  18,   0,   0,   0],\n",
       "       [  0,   0,   1,   2,   0, 257,   0,  21,   5,   7],\n",
       "       [ 68,   1,  37,  11,  28,   2, 132,   0,   5,   0],\n",
       "       [  0,   0,   0,   0,   0,  14,   0, 262,   1,  27],\n",
       "       [  1,   1,   1,   0,   0,   2,   5,   0, 291,   0],\n",
       "       [  0,   0,   0,   0,   0,  17,   0,  18,   2, 261]], dtype=int64)"
      ]
     },
     "execution_count": 47,
     "metadata": {},
     "output_type": "execute_result"
    }
   ],
   "source": [
    "confusion_matrix(y_test,pred)"
   ]
  },
  {
   "cell_type": "markdown",
   "metadata": {},
   "source": [
    "### Random Forest Classifier"
   ]
  },
  {
   "cell_type": "code",
   "execution_count": 48,
   "metadata": {},
   "outputs": [
    {
     "data": {
      "text/plain": [
       "RandomForestClassifier(bootstrap=True, class_weight=None, criterion='gini',\n",
       "            max_depth=None, max_features='auto', max_leaf_nodes=None,\n",
       "            min_impurity_decrease=0.0, min_impurity_split=None,\n",
       "            min_samples_leaf=1, min_samples_split=2,\n",
       "            min_weight_fraction_leaf=0.0, n_estimators=10, n_jobs=1,\n",
       "            oob_score=False, random_state=None, verbose=0,\n",
       "            warm_start=False)"
      ]
     },
     "execution_count": 48,
     "metadata": {},
     "output_type": "execute_result"
    }
   ],
   "source": [
    "rf=RandomForestClassifier()\n",
    "rf.fit(z1_train,y_train)"
   ]
  },
  {
   "cell_type": "code",
   "execution_count": 49,
   "metadata": {},
   "outputs": [],
   "source": [
    "pred1 = rf.predict(z1_test)"
   ]
  },
  {
   "cell_type": "code",
   "execution_count": 50,
   "metadata": {},
   "outputs": [
    {
     "data": {
      "text/plain": [
       "0.8103333333333333"
      ]
     },
     "execution_count": 50,
     "metadata": {},
     "output_type": "execute_result"
    }
   ],
   "source": [
    "metrics.accuracy_score(y_test,pred1)"
   ]
  },
  {
   "cell_type": "code",
   "execution_count": 51,
   "metadata": {},
   "outputs": [
    {
     "name": "stdout",
     "output_type": "stream",
     "text": [
      "             precision    recall  f1-score   support\n",
      "\n",
      "          0       0.73      0.75      0.74       307\n",
      "          1       0.95      0.91      0.93       312\n",
      "          2       0.68      0.74      0.71       304\n",
      "          3       0.83      0.86      0.84       306\n",
      "          4       0.71      0.75      0.73       291\n",
      "          5       0.90      0.89      0.90       293\n",
      "          6       0.55      0.44      0.49       284\n",
      "          7       0.88      0.85      0.86       304\n",
      "          8       0.94      0.96      0.95       301\n",
      "          9       0.89      0.92      0.91       298\n",
      "\n",
      "avg / total       0.81      0.81      0.81      3000\n",
      "\n"
     ]
    }
   ],
   "source": [
    "print(classification_report(y_test,pred1))"
   ]
  },
  {
   "cell_type": "code",
   "execution_count": 52,
   "metadata": {},
   "outputs": [
    {
     "data": {
      "text/plain": [
       "array([[229,   3,  10,  18,   0,   0,  42,   0,   5,   0],\n",
       "       [  3, 285,   5,  10,   2,   0,   7,   0,   0,   0],\n",
       "       [  7,   1, 225,   2,  43,   0,  23,   0,   3,   0],\n",
       "       [ 10,  10,   7, 263,   8,   0,   8,   0,   0,   0],\n",
       "       [  0,   1,  38,  10, 219,   0,  23,   0,   0,   0],\n",
       "       [  2,   0,   0,   1,   0, 262,   0,  16,   4,   8],\n",
       "       [ 62,   1,  43,  14,  32,   0, 126,   0,   6,   0],\n",
       "       [  0,   0,   0,   0,   0,  22,   0, 257,   0,  25],\n",
       "       [  1,   0,   2,   0,   3,   2,   2,   1, 290,   0],\n",
       "       [  0,   0,   0,   0,   0,   5,   0,  17,   1, 275]], dtype=int64)"
      ]
     },
     "execution_count": 52,
     "metadata": {},
     "output_type": "execute_result"
    }
   ],
   "source": [
    "confusion_matrix(y_test,pred1)"
   ]
  },
  {
   "cell_type": "markdown",
   "metadata": {},
   "source": [
    "### Gradient Boosting Classifier"
   ]
  },
  {
   "cell_type": "code",
   "execution_count": 53,
   "metadata": {},
   "outputs": [],
   "source": [
    "gbc = GradientBoostingClassifier(n_estimators=30)#,verbose=1)"
   ]
  },
  {
   "cell_type": "code",
   "execution_count": 54,
   "metadata": {},
   "outputs": [
    {
     "data": {
      "text/plain": [
       "GradientBoostingClassifier(criterion='friedman_mse', init=None,\n",
       "              learning_rate=0.1, loss='deviance', max_depth=3,\n",
       "              max_features=None, max_leaf_nodes=None,\n",
       "              min_impurity_decrease=0.0, min_impurity_split=None,\n",
       "              min_samples_leaf=1, min_samples_split=2,\n",
       "              min_weight_fraction_leaf=0.0, n_estimators=30,\n",
       "              presort='auto', random_state=None, subsample=1.0, verbose=0,\n",
       "              warm_start=False)"
      ]
     },
     "execution_count": 54,
     "metadata": {},
     "output_type": "execute_result"
    }
   ],
   "source": [
    "gbc.fit(z1_train,y_train)"
   ]
  },
  {
   "cell_type": "code",
   "execution_count": 55,
   "metadata": {},
   "outputs": [],
   "source": [
    "pred2 = gbc.predict(z1_test)"
   ]
  },
  {
   "cell_type": "code",
   "execution_count": 56,
   "metadata": {},
   "outputs": [
    {
     "data": {
      "text/plain": [
       "0.819"
      ]
     },
     "execution_count": 56,
     "metadata": {},
     "output_type": "execute_result"
    }
   ],
   "source": [
    "metrics.accuracy_score(y_test,pred2)"
   ]
  },
  {
   "cell_type": "code",
   "execution_count": 57,
   "metadata": {},
   "outputs": [
    {
     "name": "stdout",
     "output_type": "stream",
     "text": [
      "             precision    recall  f1-score   support\n",
      "\n",
      "          0       0.78      0.77      0.77       307\n",
      "          1       0.97      0.91      0.94       312\n",
      "          2       0.75      0.69      0.72       304\n",
      "          3       0.82      0.84      0.83       306\n",
      "          4       0.72      0.78      0.75       291\n",
      "          5       0.93      0.87      0.90       293\n",
      "          6       0.57      0.58      0.57       284\n",
      "          7       0.88      0.84      0.86       304\n",
      "          8       0.93      0.97      0.95       301\n",
      "          9       0.84      0.93      0.88       298\n",
      "\n",
      "avg / total       0.82      0.82      0.82      3000\n",
      "\n"
     ]
    }
   ],
   "source": [
    "print(classification_report(y_test,pred2))"
   ]
  },
  {
   "cell_type": "code",
   "execution_count": 58,
   "metadata": {},
   "outputs": [
    {
     "data": {
      "text/plain": [
       "array([[235,   1,   5,  22,   4,   0,  34,   0,   5,   1],\n",
       "       [  3, 285,   7,  14,   1,   0,   2,   0,   0,   0],\n",
       "       [  2,   1, 209,   1,  45,   0,  41,   0,   5,   0],\n",
       "       [ 11,   6,   2, 256,  15,   0,  16,   0,   0,   0],\n",
       "       [  0,   2,  25,   6, 228,   0,  29,   0,   1,   0],\n",
       "       [  1,   0,   0,   0,   0, 255,   0,  21,   2,  14],\n",
       "       [ 51,   0,  28,  12,  22,   0, 164,   0,   7,   0],\n",
       "       [  0,   0,   0,   0,   0,  11,   0, 256,   1,  36],\n",
       "       [  0,   0,   1,   1,   0,   3,   4,   0, 292,   0],\n",
       "       [  0,   0,   0,   0,   2,   4,   0,  15,   0, 277]], dtype=int64)"
      ]
     },
     "execution_count": 58,
     "metadata": {},
     "output_type": "execute_result"
    }
   ],
   "source": [
    "confusion_matrix(y_test,pred2)"
   ]
  },
  {
   "cell_type": "markdown",
   "metadata": {},
   "source": [
    "# Comparing different Classifiers"
   ]
  },
  {
   "cell_type": "code",
   "execution_count": 59,
   "metadata": {},
   "outputs": [],
   "source": [
    "list = []\n",
    "h1 = LogisticRegression()\n",
    "h2 = DecisionTreeClassifier()\n",
    "h3 = svm.SVC()\n",
    "list = VotingClassifier([('LogisticRegression', h1), ('DecisionTreeClassifier', h2), ('SVM', h3)])"
   ]
  },
  {
   "cell_type": "code",
   "execution_count": 60,
   "metadata": {},
   "outputs": [
    {
     "data": {
      "text/plain": [
       "VotingClassifier(estimators=[('LogisticRegression', LogisticRegression(C=1.0, class_weight=None, dual=False, fit_intercept=True,\n",
       "          intercept_scaling=1, max_iter=100, multi_class='ovr', n_jobs=1,\n",
       "          penalty='l2', random_state=None, solver='liblinear', tol=0.0001,\n",
       "          verbose=0, warm_start=False))...,\n",
       "  max_iter=-1, probability=False, random_state=None, shrinking=True,\n",
       "  tol=0.001, verbose=False))],\n",
       "         flatten_transform=None, n_jobs=1, voting='hard', weights=None)"
      ]
     },
     "execution_count": 60,
     "metadata": {},
     "output_type": "execute_result"
    }
   ],
   "source": [
    "list.fit(z1_train,y_train)"
   ]
  },
  {
   "cell_type": "code",
   "execution_count": 61,
   "metadata": {},
   "outputs": [
    {
     "name": "stderr",
     "output_type": "stream",
     "text": [
      "C:\\Users\\DIPANSHI\\Anaconda2\\lib\\site-packages\\sklearn\\preprocessing\\label.py:151: DeprecationWarning: The truth value of an empty array is ambiguous. Returning False, but in future this will result in an error. Use `array.size > 0` to check that an array is not empty.\n",
      "  if diff:\n"
     ]
    }
   ],
   "source": [
    "pred3 = list.predict(z1_test) "
   ]
  },
  {
   "cell_type": "code",
   "execution_count": 62,
   "metadata": {},
   "outputs": [
    {
     "data": {
      "text/plain": [
       "0.8406666666666667"
      ]
     },
     "execution_count": 62,
     "metadata": {},
     "output_type": "execute_result"
    }
   ],
   "source": [
    "metrics.accuracy_score(y_test,pred3)"
   ]
  },
  {
   "cell_type": "code",
   "execution_count": 63,
   "metadata": {},
   "outputs": [
    {
     "name": "stdout",
     "output_type": "stream",
     "text": [
      "             precision    recall  f1-score   support\n",
      "\n",
      "          0       0.74      0.83      0.78       307\n",
      "          1       0.95      0.95      0.95       312\n",
      "          2       0.73      0.75      0.74       304\n",
      "          3       0.88      0.84      0.86       306\n",
      "          4       0.77      0.79      0.78       291\n",
      "          5       0.92      0.90      0.91       293\n",
      "          6       0.65      0.53      0.58       284\n",
      "          7       0.89      0.89      0.89       304\n",
      "          8       0.93      0.98      0.95       301\n",
      "          9       0.92      0.94      0.93       298\n",
      "\n",
      "avg / total       0.84      0.84      0.84      3000\n",
      "\n"
     ]
    }
   ],
   "source": [
    "print(classification_report(y_test,pred3))"
   ]
  },
  {
   "cell_type": "code",
   "execution_count": 64,
   "metadata": {},
   "outputs": [
    {
     "data": {
      "text/plain": [
       "array([[254,   1,  10,  13,   0,   1,  24,   0,   4,   0],\n",
       "       [  1, 295,   2,   9,   0,   0,   4,   0,   1,   0],\n",
       "       [ 11,   1, 228,   0,  37,   0,  23,   0,   4,   0],\n",
       "       [ 18,   8,   7, 257,   9,   0,   6,   0,   1,   0],\n",
       "       [  1,   1,  30,   6, 231,   0,  22,   0,   0,   0],\n",
       "       [  1,   0,   0,   0,   0, 264,   0,  18,   5,   5],\n",
       "       [ 58,   3,  36,   6,  23,   2, 150,   0,   6,   0],\n",
       "       [  0,   0,   0,   0,   0,  14,   0, 270,   0,  20],\n",
       "       [  1,   1,   1,   1,   1,   0,   1,   1, 294,   0],\n",
       "       [  0,   0,   0,   0,   0,   5,   0,  14,   0, 279]], dtype=int64)"
      ]
     },
     "execution_count": 64,
     "metadata": {},
     "output_type": "execute_result"
    }
   ],
   "source": [
    "confusion_matrix(y_test,pred3)"
   ]
  },
  {
   "cell_type": "code",
   "execution_count": null,
   "metadata": {},
   "outputs": [],
   "source": []
  }
 ],
 "metadata": {
  "kernelspec": {
   "display_name": "Python 2",
   "language": "python",
   "name": "python2"
  },
  "language_info": {
   "codemirror_mode": {
    "name": "ipython",
    "version": 2
   },
   "file_extension": ".py",
   "mimetype": "text/x-python",
   "name": "python",
   "nbconvert_exporter": "python",
   "pygments_lexer": "ipython2",
   "version": "2.7.14"
  }
 },
 "nbformat": 4,
 "nbformat_minor": 2
}
